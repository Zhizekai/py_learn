{
 "cells": [
  {
   "cell_type": "code",
   "execution_count": 4,
   "metadata": {},
   "outputs": [],
   "source": [
    "import numpy as np\n",
    "import tensorflow as tf\n",
    "import matplotlib.pyplot as plt\n",
    "import pandas as pd\n",
    "from mpl_toolkits.mplot3d import Axes3D\n",
    "import seaborn as sns\n",
    "# 输出一个cel中的全部变量\n",
    "from IPython.core.interactiveshell import InteractiveShell\n",
    "InteractiveShell.ast_node_interactivity = 'all'\n",
    "# %matplotlib  \n",
    "%matplotlib inline  "
   ]
  },
  {
   "cell_type": "code",
   "execution_count": 5,
   "metadata": {},
   "outputs": [
    {
     "data": {
      "text/html": [
       "<div>\n",
       "<style scoped>\n",
       "    .dataframe tbody tr th:only-of-type {\n",
       "        vertical-align: middle;\n",
       "    }\n",
       "\n",
       "    .dataframe tbody tr th {\n",
       "        vertical-align: top;\n",
       "    }\n",
       "\n",
       "    .dataframe thead th {\n",
       "        text-align: right;\n",
       "    }\n",
       "</style>\n",
       "<table border=\"1\" class=\"dataframe\">\n",
       "  <thead>\n",
       "    <tr style=\"text-align: right;\">\n",
       "      <th></th>\n",
       "      <th>mean_factor</th>\n",
       "      <th>eigenvalue</th>\n",
       "      <th>Proportion</th>\n",
       "      <th>Cumulative</th>\n",
       "    </tr>\n",
       "  </thead>\n",
       "  <tbody>\n",
       "    <tr>\n",
       "      <th>0</th>\n",
       "      <td>1</td>\n",
       "      <td>6.65600</td>\n",
       "      <td>36.97700</td>\n",
       "      <td>36.977</td>\n",
       "    </tr>\n",
       "    <tr>\n",
       "      <th>1</th>\n",
       "      <td>2</td>\n",
       "      <td>2.05700</td>\n",
       "      <td>11.42900</td>\n",
       "      <td>48.406</td>\n",
       "    </tr>\n",
       "    <tr>\n",
       "      <th>2</th>\n",
       "      <td>3</td>\n",
       "      <td>1.68000</td>\n",
       "      <td>9.33200</td>\n",
       "      <td>57.738</td>\n",
       "    </tr>\n",
       "    <tr>\n",
       "      <th>3</th>\n",
       "      <td>4</td>\n",
       "      <td>1.42400</td>\n",
       "      <td>7.91400</td>\n",
       "      <td>65.652</td>\n",
       "    </tr>\n",
       "    <tr>\n",
       "      <th>4</th>\n",
       "      <td>5</td>\n",
       "      <td>1.31800</td>\n",
       "      <td>7.32200</td>\n",
       "      <td>72.974</td>\n",
       "    </tr>\n",
       "    <tr>\n",
       "      <th>5</th>\n",
       "      <td>6</td>\n",
       "      <td>0.95500</td>\n",
       "      <td>5.30300</td>\n",
       "      <td>78.277</td>\n",
       "    </tr>\n",
       "    <tr>\n",
       "      <th>6</th>\n",
       "      <td>7</td>\n",
       "      <td>0.84300</td>\n",
       "      <td>4.68500</td>\n",
       "      <td>82.962</td>\n",
       "    </tr>\n",
       "    <tr>\n",
       "      <th>7</th>\n",
       "      <td>8</td>\n",
       "      <td>0.77700</td>\n",
       "      <td>4.31500</td>\n",
       "      <td>87.277</td>\n",
       "    </tr>\n",
       "    <tr>\n",
       "      <th>8</th>\n",
       "      <td>9</td>\n",
       "      <td>0.60700</td>\n",
       "      <td>3.37400</td>\n",
       "      <td>90.651</td>\n",
       "    </tr>\n",
       "    <tr>\n",
       "      <th>9</th>\n",
       "      <td>10</td>\n",
       "      <td>0.56900</td>\n",
       "      <td>3.16000</td>\n",
       "      <td>93.811</td>\n",
       "    </tr>\n",
       "    <tr>\n",
       "      <th>10</th>\n",
       "      <td>11</td>\n",
       "      <td>0.30900</td>\n",
       "      <td>1.71600</td>\n",
       "      <td>95.527</td>\n",
       "    </tr>\n",
       "    <tr>\n",
       "      <th>11</th>\n",
       "      <td>12</td>\n",
       "      <td>0.26800</td>\n",
       "      <td>1.48800</td>\n",
       "      <td>97.015</td>\n",
       "    </tr>\n",
       "    <tr>\n",
       "      <th>12</th>\n",
       "      <td>13</td>\n",
       "      <td>0.17000</td>\n",
       "      <td>0.94400</td>\n",
       "      <td>97.959</td>\n",
       "    </tr>\n",
       "    <tr>\n",
       "      <th>13</th>\n",
       "      <td>14</td>\n",
       "      <td>0.15000</td>\n",
       "      <td>0.83500</td>\n",
       "      <td>98.794</td>\n",
       "    </tr>\n",
       "    <tr>\n",
       "      <th>14</th>\n",
       "      <td>15</td>\n",
       "      <td>0.12800</td>\n",
       "      <td>0.71100</td>\n",
       "      <td>99.505</td>\n",
       "    </tr>\n",
       "    <tr>\n",
       "      <th>15</th>\n",
       "      <td>16</td>\n",
       "      <td>0.04900</td>\n",
       "      <td>0.27200</td>\n",
       "      <td>99.777</td>\n",
       "    </tr>\n",
       "    <tr>\n",
       "      <th>16</th>\n",
       "      <td>17</td>\n",
       "      <td>0.02717</td>\n",
       "      <td>0.15100</td>\n",
       "      <td>99.928</td>\n",
       "    </tr>\n",
       "    <tr>\n",
       "      <th>17</th>\n",
       "      <td>18</td>\n",
       "      <td>0.01380</td>\n",
       "      <td>0.07668</td>\n",
       "      <td>100.000</td>\n",
       "    </tr>\n",
       "  </tbody>\n",
       "</table>\n",
       "</div>"
      ],
      "text/plain": [
       "    mean_factor  eigenvalue  Proportion  Cumulative\n",
       "0             1     6.65600    36.97700      36.977\n",
       "1             2     2.05700    11.42900      48.406\n",
       "2             3     1.68000     9.33200      57.738\n",
       "3             4     1.42400     7.91400      65.652\n",
       "4             5     1.31800     7.32200      72.974\n",
       "5             6     0.95500     5.30300      78.277\n",
       "6             7     0.84300     4.68500      82.962\n",
       "7             8     0.77700     4.31500      87.277\n",
       "8             9     0.60700     3.37400      90.651\n",
       "9            10     0.56900     3.16000      93.811\n",
       "10           11     0.30900     1.71600      95.527\n",
       "11           12     0.26800     1.48800      97.015\n",
       "12           13     0.17000     0.94400      97.959\n",
       "13           14     0.15000     0.83500      98.794\n",
       "14           15     0.12800     0.71100      99.505\n",
       "15           16     0.04900     0.27200      99.777\n",
       "16           17     0.02717     0.15100      99.928\n",
       "17           18     0.01380     0.07668     100.000"
      ]
     },
     "execution_count": 5,
     "metadata": {},
     "output_type": "execute_result"
    }
   ],
   "source": [
    "data1 = pd.read_csv('Table 1.csv')\n",
    "data2 = pd.read_csv('zqazqazqa.csv')\n",
    "data2"
   ]
  },
  {
   "cell_type": "code",
   "execution_count": 21,
   "metadata": {},
   "outputs": [
    {
     "data": {
      "text/plain": [
       "<Figure size 2300x600 with 0 Axes>"
      ]
     },
     "execution_count": 21,
     "metadata": {},
     "output_type": "execute_result"
    },
    {
     "data": {
      "text/plain": [
       "<BarContainer object of 21 artists>"
      ]
     },
     "execution_count": 21,
     "metadata": {},
     "output_type": "execute_result"
    }
   ],
   "source": [
    "plt.figure(figsize=(23,6))\n",
    "plt.bar(data1['City'],data1['Surviving Enterprises'])"
   ]
  },
  {
   "cell_type": "code",
   "execution_count": 10,
   "metadata": {},
   "outputs": [
    {
     "data": {
      "text/plain": [
       "array([0, 1, 2, 3, 4])"
      ]
     },
     "execution_count": 10,
     "metadata": {},
     "output_type": "execute_result"
    }
   ],
   "source": [
    "x = np.arange(5)\n",
    "x"
   ]
  },
  {
   "cell_type": "code",
   "execution_count": 23,
   "metadata": {},
   "outputs": [
    {
     "data": {
      "text/plain": [
       "<mpl_toolkits.mplot3d.art3d.Path3DCollection at 0x2479d12da88>"
      ]
     },
     "execution_count": 23,
     "metadata": {},
     "output_type": "execute_result"
    },
    {
     "data": {
      "text/plain": [
       "Text(0.5, 0, 'QNE')"
      ]
     },
     "execution_count": 23,
     "metadata": {},
     "output_type": "execute_result"
    },
    {
     "data": {
      "text/plain": [
       "Text(0.5, 0, 'QSE')"
      ]
     },
     "execution_count": 23,
     "metadata": {},
     "output_type": "execute_result"
    },
    {
     "data": {
      "text/plain": [
       "Text(0.5, 0, 'QCE')"
      ]
     },
     "execution_count": 23,
     "metadata": {},
     "output_type": "execute_result"
    }
   ],
   "source": [
    "\n",
    "total_width, n = 0.8, 3\n",
    "width = total_width / n\n",
    "index = np.arange(len(data2['City']))\n",
    "ax = plt.subplot(111, projection='3d')\n",
    "# 柱状图\n",
    "# plt.bar(data2['City'], data2['QNE'],  width=width, label='QNE')\n",
    "# plt.bar(index+width, data2['QSE'], width=width, label='QSE')\n",
    "# plt.bar(index+2*width, data2['QCE'], width=width, label='QCE')\n",
    "# plt.legend()\n",
    "\n",
    "# 散点图\n",
    "ax.scatter(data2['QNE'],data2['QSE'],data2['QCE'],c='r')\n",
    "ax.set_zlabel('QNE')  # 坐标轴\n",
    "ax.set_ylabel('QSE')\n",
    "ax.set_xlabel('QCE')\n",
    "plt.show()\n"
   ]
  },
  {
   "cell_type": "markdown",
   "metadata": {},
   "source": [
    "### 标题"
   ]
  },
  {
   "cell_type": "markdown",
   "metadata": {},
   "source": [
    "$$\n",
    "A_{m,n} = \n",
    " \\begin{pmatrix}\n",
    "  a_{1,1} & a_{1,2} & \\cdots & a_{1,n} \\\\\n",
    "  a_{2,1} & a_{2,2} & \\cdots & a_{2,n} \\\\\n",
    "  \\vdots  & \\vdots  & \\ddots & \\vdots  \\\\\n",
    "  a_{m,1} & a_{m,2} & \\cdots & a_{m,n} \n",
    " \\end{pmatrix}\n",
    "$$"
   ]
  },
  {
   "cell_type": "code",
   "execution_count": 28,
   "metadata": {},
   "outputs": [
    {
     "name": "stdout",
     "output_type": "stream",
     "text": [
      "   year  population\n",
      "0  2018     2332730\n",
      "1  2017     2337353\n",
      "2  2016     2341726\n",
      "3  2015     2355017\n",
      "4  2014     2343357\n"
     ]
    },
    {
     "data": {
      "text/plain": [
       "<Figure size 1000x600 with 0 Axes>"
      ]
     },
     "execution_count": 28,
     "metadata": {},
     "output_type": "execute_result"
    },
    {
     "data": {
      "text/plain": [
       "[<matplotlib.lines.Line2D at 0x1888ec49fc8>]"
      ]
     },
     "execution_count": 28,
     "metadata": {},
     "output_type": "execute_result"
    },
    {
     "data": {
      "text/plain": [
       "Text(0.5, 0, 'year')"
      ]
     },
     "execution_count": 28,
     "metadata": {},
     "output_type": "execute_result"
    },
    {
     "data": {
      "text/plain": [
       "Text(0, 0.5, 'population')"
      ]
     },
     "execution_count": 28,
     "metadata": {},
     "output_type": "execute_result"
    }
   ],
   "source": [
    "# 数据集\n",
    "data = pd.read_csv(\"year.csv\")\n",
    "print(data.head())\n",
    "# 绘画折线图\n",
    "plt.figure(figsize=(10,6))\n",
    "plt.plot(data[\"year\"],data[\"population\"],label='population', marker='o')\n",
    "plt.xlabel(\"year\") #xlabel、ylabel：分别设置X、Y轴的标题文字。\n",
    "plt.ylabel(\"population\")\n",
    "# 显示\n",
    "plt.show()"
   ]
  },
  {
   "cell_type": "code",
   "execution_count": null,
   "metadata": {},
   "outputs": [],
   "source": []
  },
  {
   "cell_type": "code",
   "execution_count": null,
   "metadata": {},
   "outputs": [],
   "source": []
  }
 ],
 "metadata": {
  "kernelspec": {
   "display_name": "Python 3",
   "language": "python",
   "name": "python3"
  },
  "language_info": {
   "codemirror_mode": {
    "name": "ipython",
    "version": 3
   },
   "file_extension": ".py",
   "mimetype": "text/x-python",
   "name": "python",
   "nbconvert_exporter": "python",
   "pygments_lexer": "ipython3",
   "version": "3.8.5"
  }
 },
 "nbformat": 4,
 "nbformat_minor": 4
}
